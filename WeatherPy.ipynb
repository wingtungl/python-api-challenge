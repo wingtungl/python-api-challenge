{
 "cells": [
  {
   "cell_type": "markdown",
   "metadata": {},
   "source": [
    "# WeatherPy\n",
    "\n",
    "---\n",
    "\n",
    "## Starter Code to Generate Random Geographic Coordinates and a List of Cities"
   ]
  },
  {
   "cell_type": "code",
   "execution_count": 1,
   "metadata": {
    "scrolled": true
   },
   "outputs": [],
   "source": [
    "# Dependencies and Setup\n",
    "import matplotlib.pyplot as plt\n",
    "import pandas as pd\n",
    "import numpy as np\n",
    "import requests\n",
    "import time\n",
    "from scipy.stats import linregress\n",
    "\n",
    "# Impor the OpenWeatherMap API key\n",
    "from api_keys import weather_api_key\n",
    "\n",
    "# Import citipy to determine the cities based on latitude and longitude\n",
    "from citipy import citipy"
   ]
  },
  {
   "cell_type": "markdown",
   "metadata": {},
   "source": [
    "### Generate the Cities List by Using the `citipy` Library"
   ]
  },
  {
   "cell_type": "code",
   "execution_count": 2,
   "metadata": {},
   "outputs": [],
   "source": [
    "NUMBER_OF_POINTS= 50    # DEBUG 1500\n",
    "BASE_URL= f\"https://api.openweathermap.org/data/2.5/weather?&appid={weather_api_key}&units=metric\""
   ]
  },
  {
   "cell_type": "code",
   "execution_count": 3,
   "metadata": {},
   "outputs": [
    {
     "name": "stdout",
     "output_type": "stream",
     "text": [
      "Number of cities in the list: 39\n"
     ]
    }
   ],
   "source": [
    "# Empty list for holding the latitude and longitude combinations\n",
    "lat_lngs = []\n",
    "\n",
    "# Empty list for holding the cities names\n",
    "cities = []\n",
    "\n",
    "# Range of latitudes and longitudes\n",
    "lat_range = (-90, 90)\n",
    "lng_range = (-180, 180)\n",
    "\n",
    "# Create a set of random lat and lng combinations\n",
    "lats = np.random.uniform(lat_range[0], lat_range[1], size=NUMBER_OF_POINTS)\n",
    "lngs = np.random.uniform(lng_range[0], lng_range[1], size=NUMBER_OF_POINTS)\n",
    "lat_lngs = zip(lats, lngs)\n",
    "\n",
    "# Identify nearest city for each lat, lng combination\n",
    "for lat_lng in lat_lngs:\n",
    "    city = citipy.nearest_city(lat_lng[0], lat_lng[1]).city_name\n",
    "    \n",
    "    # If the city is unique, then add it to a our cities list\n",
    "    if city not in cities:\n",
    "        cities.append(city)\n",
    "\n",
    "# Print the city count to confirm sufficient count\n",
    "print(f\"Number of cities in the list: {len(cities)}\")"
   ]
  },
  {
   "cell_type": "markdown",
   "metadata": {},
   "source": [
    "---"
   ]
  },
  {
   "cell_type": "markdown",
   "metadata": {},
   "source": [
    "## Requirement 1: Create Plots to Showcase the Relationship Between Weather Variables and Latitude\n",
    "\n",
    "### Use the OpenWeatherMap API to retrieve weather data from the cities list generated in the started code"
   ]
  },
  {
   "cell_type": "code",
   "execution_count": 4,
   "metadata": {},
   "outputs": [
    {
     "name": "stdout",
     "output_type": "stream",
     "text": [
      "Beginning Data Retrieval     \n",
      "-----------------------------\n",
      "Processing Record 1 of Set 1 | maloye ganyushkino\n",
      "Processing Record 2 of Set 1 | edinburgh of the seven seas\n",
      "Processing Record 3 of Set 1 | tiksi\n",
      "Processing Record 4 of Set 1 | kataragama\n",
      "City kataragama not found status: 404. Skipping...\n",
      "Processing Record 5 of Set 1 | flying fish cove\n",
      "Processing Record 6 of Set 1 | adamstown\n",
      "Processing Record 7 of Set 1 | jamestown\n",
      "Processing Record 8 of Set 1 | rongelap\n",
      "Processing Record 9 of Set 1 | waitangi\n",
      "Processing Record 10 of Set 1 | rabo de peixe\n",
      "Processing Record 11 of Set 1 | rampur\n",
      "Processing Record 12 of Set 1 | yellowknife\n",
      "Processing Record 13 of Set 1 | kulachi\n",
      "Processing Record 14 of Set 1 | hithadhoo\n",
      "Processing Record 15 of Set 1 | pisco\n",
      "Processing Record 16 of Set 1 | isangel\n",
      "Processing Record 17 of Set 1 | iskateley\n",
      "Processing Record 18 of Set 1 | ribeira grande\n",
      "Processing Record 19 of Set 1 | margaret river\n",
      "Processing Record 20 of Set 1 | grytviken\n",
      "Processing Record 21 of Set 1 | papatowai\n",
      "Processing Record 22 of Set 1 | relizane\n",
      "Processing Record 23 of Set 1 | college\n",
      "Processing Record 24 of Set 1 | qala i naw\n",
      "Processing Record 25 of Set 1 | puerto ayora\n",
      "Processing Record 26 of Set 1 | albany\n",
      "Processing Record 27 of Set 1 | bethel\n",
      "Processing Record 28 of Set 1 | constantia\n",
      "Processing Record 29 of Set 1 | damara\n",
      "Processing Record 30 of Set 1 | san diego de alejandria\n",
      "Processing Record 31 of Set 1 | alo\n",
      "Processing Record 32 of Set 1 | tayshet\n",
      "Processing Record 33 of Set 1 | rybnoye\n",
      "Processing Record 34 of Set 1 | codrington\n",
      "Processing Record 35 of Set 1 | sitka\n",
      "Processing Record 36 of Set 1 | al ghayzah\n",
      "Processing Record 37 of Set 1 | emerald\n",
      "Processing Record 38 of Set 1 | belur\n",
      "Processing Record 39 of Set 1 | westport\n",
      "-----------------------------\n",
      "Data Retrieval Complete      \n",
      "-----------------------------\n"
     ]
    }
   ],
   "source": [
    "# Define an empty list to fetch the weather data for each city\n",
    "city_data = []\n",
    "\n",
    "# Print to logger\n",
    "print(\"Beginning Data Retrieval     \")\n",
    "print(\"-----------------------------\")\n",
    "\n",
    "# Create counters\n",
    "record_count = 1\n",
    "set_count = 1\n",
    "\n",
    "# Loop through all the cities in our list to fetch weather data\n",
    "for i, city in enumerate(cities):    \n",
    "        \n",
    "    # Group cities in sets of 50 for logging purposes\n",
    "    if (i % 50 == 0 and i >= 50):\n",
    "        set_count += 1\n",
    "        record_count = 0\n",
    "\n",
    "       \n",
    "    # Create endpoint URL with each city\n",
    "    city_url =f\"{BASE_URL}&q={city}\"\n",
    "   \n",
    "    # Log the url, record, and set numbers\n",
    "    print(\"Processing Record %s of Set %s | %s\" % (record_count, set_count, city))\n",
    "\n",
    "    # Add 1 to the record count\n",
    "    record_count += 1\n",
    "\n",
    "    # Run an API request for each of the cities\n",
    "    try:\n",
    "        # Parse the JSON and retrieve data\n",
    "        city_response = requests.get(city_url)\n",
    "        city_weather = city_response.json()\n",
    "\n",
    "        # Parse out latitude, longitude, max temp, humidity, cloudiness, wind speed, country, and date\n",
    "        city_lat = city_weather['coord']['lat']\n",
    "        city_lng = city_weather['coord']['lon']\n",
    "        city_max_temp = city_weather['main']['temp_max']\n",
    "        city_humidity = city_weather['main']['humidity']\n",
    "        city_clouds = city_weather['clouds']['all']\n",
    "        city_wind = city_weather['wind']['speed']\n",
    "        city_country = city_weather['sys']['country']\n",
    "        city_date = city_weather['dt']\n",
    "\n",
    "        # Append the City information into city_data list\n",
    "        city_data.append({\"City\": city, \n",
    "                          \"Lat\": city_lat, \n",
    "                          \"Lng\": city_lng, \n",
    "                          \"Max Temp\": city_max_temp,\n",
    "                          \"Humidity\": city_humidity,\n",
    "                          \"Cloudiness\": city_clouds,\n",
    "                          \"Wind Speed\": city_wind,\n",
    "                          \"Country\": city_country,\n",
    "                          \"Date\": city_date})\n",
    "\n",
    "    # If an error is experienced, skip the city\n",
    "    except KeyError:\n",
    "        print(f\"City {city} not found status: {city_response.status_code}. Skipping...\")\n",
    "    \n",
    "              \n",
    "# Indicate that Data Loading is complete \n",
    "print(\"-----------------------------\")\n",
    "print(\"Data Retrieval Complete      \")\n",
    "print(\"-----------------------------\")"
   ]
  },
  {
   "cell_type": "code",
   "execution_count": null,
   "metadata": {},
   "outputs": [],
   "source": [
    "city_max_temp = city_weather['main']['temp_max']\n",
    "city_weather"
   ]
  },
  {
   "cell_type": "code",
   "execution_count": null,
   "metadata": {},
   "outputs": [],
   "source": [
    "city_data_df= pd.DataFrame(city_data)\n",
    "city_data_df.count()"
   ]
  },
  {
   "cell_type": "code",
   "execution_count": null,
   "metadata": {},
   "outputs": [],
   "source": [
    "# Display sample data\n",
    "city_data_df.head()"
   ]
  },
  {
   "cell_type": "code",
   "execution_count": null,
   "metadata": {},
   "outputs": [],
   "source": [
    "# Export the City_Data into a csv\n",
    "city_data_df.to_csv(\"output_data/cities.csv\", index_label=\"City_ID\")"
   ]
  },
  {
   "cell_type": "code",
   "execution_count": null,
   "metadata": {},
   "outputs": [],
   "source": [
    "# Read saved data\n",
    "city_data_df = pd.read_csv(\"output_data/cities.csv\", index_col=\"City_ID\")\n",
    "\n",
    "# Display sample data\n",
    "city_data_df.head()"
   ]
  },
  {
   "cell_type": "markdown",
   "metadata": {},
   "source": [
    "### Create the Scatter Plots Requested\n",
    "\n",
    "#### Latitude Vs. Temperature"
   ]
  },
  {
   "cell_type": "code",
   "execution_count": null,
   "metadata": {},
   "outputs": [],
   "source": [
    "# Build scatter plot for latitude vs. temperature\n",
    "plt.scatter(city_data_df['Lat'], city_data_df['Max Temp'], marker=\"o\", facecolors=\"blue\", edgecolors=\"black\", alpha=0.7)\n",
    "plt.title(\"City Max Latitute vs. Temperature (10-2023)\")\n",
    "plt.xlabel(\"Latitute\")\n",
    "plt.ylabel(\"Max Temperature (C)\")\n",
    "plt.grid(True)\n",
    "\n",
    "# Save the figure\n",
    "plt.savefig(\"output_data/Fig1.png\")\n",
    "\n",
    "# Show plot\n",
    "plt.show()"
   ]
  },
  {
   "cell_type": "markdown",
   "metadata": {},
   "source": [
    "#### Latitude Vs. Humidity"
   ]
  },
  {
   "cell_type": "code",
   "execution_count": null,
   "metadata": {},
   "outputs": [],
   "source": [
    "plt.scatter(city_data_df['Lat'], city_data_df['Humidity'], marker=\"o\", facecolors=\"blue\", edgecolors=\"black\", alpha=0.7)\n",
    "plt.title(\"City Max Latitute vs. Humidity (10-2023)\")\n",
    "plt.xlabel(\"Latitute\")\n",
    "plt.ylabel(\"Humidity (%)\")\n",
    "plt.grid(True)\n",
    "\n",
    "# Save the figure\n",
    "plt.savefig(\"output_data/Fig2.png\")\n",
    "\n",
    "# Show plot\n",
    "plt.show()"
   ]
  },
  {
   "cell_type": "markdown",
   "metadata": {},
   "source": [
    "#### Latitude Vs. Cloudiness"
   ]
  },
  {
   "cell_type": "code",
   "execution_count": null,
   "metadata": {},
   "outputs": [],
   "source": [
    "# Build the scatter plots for latitude vs. cloudiness\n",
    "plt.scatter(city_data_df['Lat'], city_data_df['Cloudiness'], marker=\"o\", facecolors=\"blue\", edgecolors=\"black\", alpha=0.7)\n",
    "plt.title(\"City Max Latitute vs. Cloudiness (10-2023)\")\n",
    "plt.xlabel(\"Latitute\")\n",
    "plt.ylabel(\"Cloudiness (%)\")\n",
    "plt.grid(True)\n",
    "\n",
    "# Save the figure\n",
    "plt.savefig(\"output_data/Fig3.png\")\n",
    "\n",
    "# Show plot\n",
    "plt.show()"
   ]
  },
  {
   "cell_type": "markdown",
   "metadata": {},
   "source": [
    "#### Latitude vs. Wind Speed Plot"
   ]
  },
  {
   "cell_type": "code",
   "execution_count": null,
   "metadata": {},
   "outputs": [],
   "source": [
    "# Build the scatter plots for latitude vs. wind speed\n",
    "plt.scatter(city_data_df['Lat'], city_data_df['Wind Speed'], marker=\"o\", facecolors=\"blue\", edgecolors=\"black\", alpha=0.7)\n",
    "plt.title(\"City Max Latitute vs. Wind Speed (10-2023)\")\n",
    "plt.xlabel(\"Latitute\")\n",
    "plt.ylabel(\"Wind Speed (m/s)\")\n",
    "plt.grid(True)\n",
    "\n",
    "# Save the figure\n",
    "plt.savefig(\"output_data/Fig4.png\")\n",
    "\n",
    "# Show plot\n",
    "plt.show()"
   ]
  },
  {
   "cell_type": "markdown",
   "metadata": {},
   "source": [
    "---\n",
    "\n",
    "## Requirement 2: Compute Linear Regression for Each Relationship\n"
   ]
  },
  {
   "cell_type": "code",
   "execution_count": null,
   "metadata": {},
   "outputs": [],
   "source": [
    "# Define a function to create Linear Regression plots\n",
    "# YOUR CODE HERE\n",
    "def (slope, intercept, rvalue, pvalue, stderr) = stats.linregress(x_values, y_values)\n",
    "    regress_values = x_values * slope + intercept\n",
    "    line_eq = \"y = \" + str(round(slope,2)) + \"x +\" + str(round(intercept,2))\n"
   ]
  },
  {
   "cell_type": "code",
   "execution_count": null,
   "metadata": {},
   "outputs": [],
   "source": [
    "# Create a DataFrame with the Northern Hemisphere data (Latitude >= 0)\n",
    "northern_hemi_df = pd.DataFrame(city_data_df.loc[city_data_df['Lat']>=0,:])\n",
    "# Display sample data\n",
    "northern_hemi_df.head()"
   ]
  },
  {
   "cell_type": "code",
   "execution_count": null,
   "metadata": {},
   "outputs": [],
   "source": [
    "# Create a DataFrame with the Southern Hemisphere data (Latitude < 0)\n",
    "southern_hemi_df = pd.DataFrame(city_data_df.loc[city_data_df['Lat']<0,:])\n",
    "# Display sample data\n",
    "southern_hemi_df.head()"
   ]
  },
  {
   "cell_type": "markdown",
   "metadata": {},
   "source": [
    "###  Temperature vs. Latitude Linear Regression Plot"
   ]
  },
  {
   "cell_type": "code",
   "execution_count": null,
   "metadata": {},
   "outputs": [],
   "source": [
    "# Linear regression on Northern Hemisphere\n",
    "x_axis= northern_hemi_df['Lat']\n",
    "y_axis= northern_hemi_df['Max Temp']\n",
    "(slope, intercept, rvalue, pvalue, stderr) = linregress(x_axis, y_axis)\n",
    "regress_values = x_axis * slope + intercept\n",
    "line_eq = \"y = \" + str(round(slope,2)) + \"x + \" + str(round(intercept,2))\n",
    "plt.scatter(x_axis,y_axis)\n",
    "plt.plot(x_axis,regress_values,\"r-\")\n",
    "plt.title(\"Northern Hemisphere Latitute vs. Max Temperature in 10/2023\")\n",
    "plt.xlabel(\"Latitute\")\n",
    "plt.ylabel(\"Max Temperature (C)\")\n",
    "plt.annotate(line_eq,(0,250),fontsize=13,color=\"red\")\n",
    "plt.show()\n",
    "print(f\"The r-value is: {rvalue}\")\n",
    "print(line_eq)"
   ]
  },
  {
   "cell_type": "code",
   "execution_count": null,
   "metadata": {},
   "outputs": [],
   "source": [
    "# Linear regression on Southern Hemisphere\n",
    "x_value= southern_hemi_df['Lat']\n",
    "y_value= southern_hemi_df['Max Temp']\n",
    "(slope, intercept, rvalue, pvalue, stderr) = linregress(x_value, y_value)\n",
    "regress_values = x_value * slope + intercept\n",
    "line_eq = \"y = \" + str(round(slope,2)) + \"x + \" + str(round(intercept,2))\n",
    "plt.scatter(x_value,y_value)\n",
    "plt.plot(x_value,regress_values,\"r-\")\n",
    "plt.title(\"Southern Hemisphere Latitute vs. Max Temperature in 10/2023\")\n",
    "plt.xlabel(\"Latitute\")\n",
    "plt.ylabel(\"Max Temperature (C)\")\n",
    "plt.annotate(line_eq,(-25,270),fontsize=13,color=\"red\")\n",
    "plt.show()\n",
    "print(f\"The r-value is: {rvalue}\")\n",
    "print(line_eq)"
   ]
  },
  {
   "cell_type": "markdown",
   "metadata": {},
   "source": [
    "**Discussion about the linear relationship:** YOUR RESPONSE HERE"
   ]
  },
  {
   "cell_type": "markdown",
   "metadata": {},
   "source": [
    "### Humidity vs. Latitude Linear Regression Plot"
   ]
  },
  {
   "cell_type": "code",
   "execution_count": null,
   "metadata": {},
   "outputs": [],
   "source": [
    "# Northern Hemisphere Humidity vs. Latitute Linear Regression Plot\n",
    "(slope, intercept, rvalue, pvalue, stderr) = linregress(northern_hemi_df['Lat'], northern_hemi_df['Humidity'])\n",
    "regress_values = northern_hemi_df['Lat'] * slope + intercept\n",
    "line_eq = \"y = \" + str(round(slope,2)) + \"x + \" + str(round(intercept,2))\n",
    "plt.scatter(northern_hemi_df['Lat'], northern_hemi_df['Humidity'])\n",
    "plt.plot(northern_hemi_df['Lat'],regress_values,\"r-\")\n",
    "plt.title(\"Northern Hemisphere Latitute vs. Humidity in 10/2023\")\n",
    "plt.xlabel(\"Latitute\")\n",
    "plt.ylabel(\"Humidity\")\n",
    "plt.annotate(line_eq,(50,22),fontsize=13, color=\"red\")\n",
    "plt.show()\n",
    "print(f\"The r-value is: {rvalue}\")\n",
    "print(line_eq)"
   ]
  },
  {
   "cell_type": "code",
   "execution_count": null,
   "metadata": {},
   "outputs": [],
   "source": [
    "# Southern Hemisphere Latitude vs. Humidity\n",
    "(slope, intercept, rvalue, pvalue, stderr) = linregress(southern_hemi_df['Lat'], southern_hemi_df['Humidity'])\n",
    "regress_values = southern_hemi_df['Lat'] * slope + intercept\n",
    "line_eq = \"y = \" + str(round(slope,2)) + \"x + \" + str(round(intercept,2))\n",
    "plt.scatter(southern_hemi_df['Lat'], southern_hemi_df['Humidity'])\n",
    "plt.plot(southern_hemi_df['Lat'],regress_values,\"r-\")\n",
    "plt.title(\"Southern Hemisphere Latitute vs. Humidity in 10/2023\")\n",
    "plt.xlabel(\"Latitute\")\n",
    "plt.ylabel(\"Humidity\")\n",
    "plt.annotate(line_eq,(-55,22),fontsize=13, color=\"red\")\n",
    "plt.show()\n",
    "print(f\"The r-value is: {rvalue}\")\n",
    "print(line_eq)"
   ]
  },
  {
   "cell_type": "markdown",
   "metadata": {},
   "source": [
    "**Discussion about the linear relationship:** YOUR RESPONSE HERE"
   ]
  },
  {
   "cell_type": "markdown",
   "metadata": {},
   "source": [
    "### Cloudiness vs. Latitude Linear Regression Plot"
   ]
  },
  {
   "cell_type": "code",
   "execution_count": null,
   "metadata": {},
   "outputs": [],
   "source": [
    "# Northern Hemisphere Latitute vs. Cloudiness\n",
    "(slope, intercept, rvalue, pvalue, stderr) = linregress(northern_hemi_df['Lat'], northern_hemi_df['Cloudiness'])\n",
    "regress_values = northern_hemi_df['Lat'] * slope + intercept\n",
    "line_eq = \"y = \" + str(round(slope,2)) + \"x + \" + str(round(intercept,2))\n",
    "plt.scatter(northern_hemi_df['Lat'], northern_hemi_df['Cloudiness'])\n",
    "plt.plot(northern_hemi_df['Lat'],regress_values,\"r-\")\n",
    "plt.title(\"Northern Hemisphere Latitute vs. Cloudiness in 10/2023\")\n",
    "plt.xlabel(\"Latitute\")\n",
    "plt.ylabel(\"Cloudiness\")\n",
    "plt.annotate(line_eq,(50,3),fontsize=13, color=\"red\")\n",
    "plt.show()\n",
    "print(f\"The r-value is: {rvalue}\")\n",
    "print(line_eq)"
   ]
  },
  {
   "cell_type": "code",
   "execution_count": null,
   "metadata": {},
   "outputs": [],
   "source": [
    "# Southern Hemisphere Latitute vs. Cloudiness\n",
    "(slope, intercept, rvalue, pvalue, stderr) = linregress(southern_hemi_df['Lat'], southern_hemi_df['Cloudiness'])\n",
    "regress_values = southern_hemi_df['Lat'] * slope + intercept\n",
    "line_eq = \"y = \" + str(round(slope,2)) + \"x + \" + str(round(intercept,2))\n",
    "plt.scatter(southern_hemi_df['Lat'], southern_hemi_df['Cloudiness'])\n",
    "plt.plot(southern_hemi_df['Lat'],regress_values,\"r-\")\n",
    "plt.title(\"Southern Hemisphere Latitute vs. Cloudiness in 10/2023\")\n",
    "plt.xlabel(\"Latitute\")\n",
    "plt.ylabel(\"Cloudiness\")\n",
    "plt.annotate(line_eq,(55,12),fontsize=13, color=\"red\")\n",
    "plt.show()\n",
    "print(f\"The r-value is: {rvalue}\")\n",
    "print(line_eq)"
   ]
  },
  {
   "cell_type": "markdown",
   "metadata": {},
   "source": [
    "**Discussion about the linear relationship:** YOUR RESPONSE HERE"
   ]
  },
  {
   "cell_type": "markdown",
   "metadata": {},
   "source": [
    "### Wind Speed vs. Latitude Linear Regression Plot"
   ]
  },
  {
   "cell_type": "code",
   "execution_count": null,
   "metadata": {},
   "outputs": [],
   "source": [
    "# Northern Hemisphere Wind Speed vs. Latitute\n",
    "(slope, intercept, rvalue, pvalue, stderr) = linregress(northern_hemi_df['Lat'], northern_hemi_df['Wind Speed'])\n",
    "regress_values = northern_hemi_df['Lat'] * slope + intercept\n",
    "line_eq = \"y = \" + str(round(slope,2)) + \"x + \" + str(round(intercept,2))\n",
    "plt.scatter(northern_hemi_df['Lat'], northern_hemi_df['Wind Speed'])\n",
    "plt.plot(northern_hemi_df['Lat'],regress_values,\"r-\")\n",
    "plt.title(\"Northern Hemisphere Latitute vs. Wind Speed in 10/2023\")\n",
    "plt.xlabel(\"Latitute\")\n",
    "plt.ylabel(\"Wind Speed\")\n",
    "plt.annotate(line_eq,(55,11),fontsize=13, color=\"red\")\n",
    "plt.show()\n",
    "print(f\"The r-value is: {rvalue}\")\n",
    "print(line_eq)"
   ]
  },
  {
   "cell_type": "code",
   "execution_count": null,
   "metadata": {},
   "outputs": [],
   "source": [
    "# Southern Hemisphere Wind Speed vs. Latitute\n",
    "(slope, intercept, rvalue, pvalue, stderr) = linregress(southern_hemi_df['Lat'], southern_hemi_df['Wind Speed'])\n",
    "regress_values = southern_hemi_df['Lat'] * slope + intercept\n",
    "line_eq = \"y = \" + str(round(slope,2)) + \"x + \" + str(round(intercept,2))\n",
    "plt.scatter(southern_hemi_df['Lat'], southern_hemi_df['Wind Speed'])\n",
    "plt.plot(southern_hemi_df['Lat'],regress_values,\"r-\")\n",
    "plt.title(\"Southern Hemisphere Latitute vs. Wind Speed in 10/2023\")\n",
    "plt.xlabel(\"Latitute\")\n",
    "plt.ylabel(\"Wind Speed\")\n",
    "plt.annotate(line_eq,(-55,10),fontsize=13, color=\"red\")\n",
    "plt.show()\n",
    "print(f\"The r-value is: {rvalue}\")\n",
    "print(line_eq)"
   ]
  },
  {
   "cell_type": "markdown",
   "metadata": {},
   "source": [
    "**Discussion about the linear relationship:** YOUR RESPONSE HERE"
   ]
  },
  {
   "cell_type": "code",
   "execution_count": null,
   "metadata": {},
   "outputs": [],
   "source": []
  }
 ],
 "metadata": {
  "anaconda-cloud": {},
  "kernel_info": {
   "name": "python3"
  },
  "kernelspec": {
   "display_name": "Python 3 (ipykernel)",
   "language": "python",
   "name": "python3"
  },
  "language_info": {
   "codemirror_mode": {
    "name": "ipython",
    "version": 3
   },
   "file_extension": ".py",
   "mimetype": "text/x-python",
   "name": "python",
   "nbconvert_exporter": "python",
   "pygments_lexer": "ipython3",
   "version": "3.10.13"
  },
  "latex_envs": {
   "LaTeX_envs_menu_present": true,
   "autoclose": false,
   "autocomplete": true,
   "bibliofile": "biblio.bib",
   "cite_by": "apalike",
   "current_citInitial": 1,
   "eqLabelWithNumbers": true,
   "eqNumInitial": 1,
   "hotkeys": {
    "equation": "Ctrl-E",
    "itemize": "Ctrl-I"
   },
   "labels_anchors": false,
   "latex_user_defs": false,
   "report_style_numbering": false,
   "user_envs_cfg": false
  },
  "nteract": {
   "version": "0.12.3"
  }
 },
 "nbformat": 4,
 "nbformat_minor": 4
}
